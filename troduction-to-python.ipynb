{
  "nbformat": 4,
  "nbformat_minor": 0,
  "metadata": {
    "colab": {
      "name": "TRODUCTION TO PYTHON.ipynb",
      "provenance": [],
      "collapsed_sections": [],
      "authorship_tag": "ABX9TyO9G/tit0qajy5cQJwDz057",
      "include_colab_link": true
    },
    "kernelspec": {
      "name": "python3",
      "display_name": "Python 3"
    },
    "language_info": {
      "name": "python"
    }
  },
  "cells": [
    {
      "cell_type": "markdown",
      "metadata": {
        "id": "view-in-github",
        "colab_type": "text"
      },
      "source": [
        "<a href=\"https://colab.research.google.com/gist/ReyesResendiz/b7bec36a51250ad142d8413e50debf16/troduction-to-python.ipynb\" target=\"_parent\"><img src=\"https://colab.research.google.com/assets/colab-badge.svg\" alt=\"Open In Colab\"/></a>"
      ]
    },
    {
      "cell_type": "markdown",
      "metadata": {
        "id": "oWDEIvgWgaY6"
      },
      "source": [
        "# **HISTORY OF PYTHON**\n",
        "\n",
        "####The Python language was conceived in the late 80's by Guido Van Rossum, on a Cristmas in 1989, Guido Van Rossum, Who Worked at the CWI (Dutch Research Center), he decided to start the project as a hobby giving continuity to ABC, a programming language that was develod in the CWI."
      ]
    },
    {
      "cell_type": "markdown",
      "metadata": {
        "id": "a0W61MxDRrhE"
      },
      "source": [
        "![creador](https://www.muycomputerpro.com/wp-content/uploads/2020/11/guido-van-rossum-python-microsoft.jpg)"
      ]
    },
    {
      "cell_type": "markdown",
      "metadata": {
        "id": "__XAz6jbRyVh"
      },
      "source": [
        "####Python was developed as an alternative for basic, this was thought principal programmers for their ease of their ease of applendacity and its use, its code was compact but legible. This project did not happen to be transferres since in that time the hardware towards difficult its use.\n",
        "####The name of Python comes because Guido Van Rossum liked a humorist group called Morty Python."
      ]
    },
    {
      "cell_type": "markdown",
      "metadata": {
        "id": "xGba3gfQ3vGr"
      },
      "source": [
        "####In February 1991 the code for version 0.9.0 was published for the first time in alt.sources. This version had classes with inheritance, exception handling, fuctions, and modular types. Guido described that in this version appeared a module system adopted from Modulo-3, a structural and modular programming.\n"
      ]
    },
    {
      "cell_type": "markdown",
      "metadata": {
        "id": "5uL-E3Uo7USI"
      },
      "source": [
        "![Python 0.9.0](https://miro.medium.com/max/1400/1*A-Ux1hswqfL6cYQC8axXxQ.png)"
      ]
    },
    {
      "cell_type": "markdown",
      "metadata": {
        "id": "ao3iznMoBw_O"
      },
      "source": [
        "####In 1994 comp.lang.python, the main discussion forum for python, was formed, marking a milestone in the growth of the user group of this language. for this same year, python decides to release version 1.0, this version of python includes functional programming tools such as lambda, reduce, filter and map."
      ]
    },
    {
      "cell_type": "markdown",
      "metadata": {
        "id": "P_k_ZLCwEeqS"
      },
      "source": [
        "![python 1.0](https://pbs.twimg.com/media/ErfymBmXUAEg-dO?format=jpg&name=large)"
      ]
    },
    {
      "cell_type": "markdown",
      "metadata": {
        "id": "zAHwNEjzEmKA"
      },
      "source": [
        "####1995 was released version 1.2 of Python in CWI, this was the last version released by Cwi, Van Rossun continued working at the Corporation For National Research (CNRI), in Virginia. Where Van Rossum would release various language versions."
      ]
    },
    {
      "cell_type": "markdown",
      "metadata": {
        "id": "TYtpK7-4LqKa"
      },
      "source": [
        "####Van Rossum was inspired by Modular-3 for version 1.4 and alsso Built-in support for complex numbers."
      ]
    },
    {
      "cell_type": "markdown",
      "metadata": {
        "id": "zzS6_8lRMFK0"
      },
      "source": [
        "####In the year 2000 a major change occurs, as versions 1.6 and 2.0 were released almost at the same time. The main team of Python developers switched to BeOpen.com, in orden to from the BeOpen Python Labs team. However, the CNRI corporation requested thar version º.6 be substantially higher license that the versions published on CWI.\n",
        "####For Python 2.0 list generation is included, one of the most important features of the haskell functional programming language.\n",
        "####After Python 2.0 was published by BeOpen. com, Guido Van Rossum and other PythonLabs developrs joined Digital Creations to continue developing the different versions."
      ]
    },
    {
      "cell_type": "markdown",
      "metadata": {
        "id": "SkhpEbxXP6fw"
      },
      "source": [
        "![Python 2.0](https://cdn.educba.com/academy/wp-content/uploads/2018/06/Python-3-vs-Python-2-1.jpg.webp)"
      ]
    },
    {
      "cell_type": "markdown",
      "metadata": {
        "id": "_0EPzFjLp-8y"
      },
      "source": [
        "####In 2001, the Python Software Foundation was created, which as of Python 2.1 owns all the code, documents and language specifitions.\n",
        "####In 2008 we have the last Python update, version 3.0 with PEP3000, which is designed to rectify errors in the design of the language."
      ]
    },
    {
      "cell_type": "markdown",
      "metadata": {
        "id": "dMIwy9FpuAXn"
      },
      "source": [
        "#**INTRODUCTION TO THE PYTHON LANGUAGE**"
      ]
    },
    {
      "cell_type": "markdown",
      "metadata": {
        "id": "Pr90-ZUCxyN_"
      },
      "source": [
        "##***IMPRESION***"
      ]
    },
    {
      "cell_type": "markdown",
      "metadata": {
        "id": "PiPTDc59yqGL"
      },
      "source": [
        "####To display a message on the screen we use the print command, followed by parentheses and quotation marks."
      ]
    },
    {
      "cell_type": "code",
      "metadata": {
        "colab": {
          "base_uri": "https://localhost:8080/"
        },
        "id": "VUdMIRmSugQB",
        "outputId": "2a43c232-4ec6-4e59-c2a9-43675138f06e"
      },
      "source": [
        "print(\"hello world\")"
      ],
      "execution_count": null,
      "outputs": [
        {
          "output_type": "stream",
          "name": "stdout",
          "text": [
            "hello world\n"
          ]
        }
      ]
    },
    {
      "cell_type": "markdown",
      "metadata": {
        "id": "0xk5zySL0CyW"
      },
      "source": [
        "####The message is placed in the middle of the quotation marks so that the program does not confuse it with variable.\n",
        "####To print two outpunts on the same line we use the command:"
      ]
    },
    {
      "cell_type": "code",
      "metadata": {
        "colab": {
          "base_uri": "https://localhost:8080/"
        },
        "id": "Pgp0KUy_1XIC",
        "outputId": "9f023567-1475-4e62-c7a8-2cc139b24783"
      },
      "source": [
        "print(\"How old are you?\", end= '')\n",
        "print(\"i'm 20 year old\")"
      ],
      "execution_count": null,
      "outputs": [
        {
          "output_type": "stream",
          "name": "stdout",
          "text": [
            "¿How old are you?i'm 28 year old\n"
          ]
        }
      ]
    },
    {
      "cell_type": "markdown",
      "metadata": {
        "id": "LwTAoclbLc29"
      },
      "source": [
        "##Write text:"
      ]
    },
    {
      "cell_type": "code",
      "metadata": {
        "colab": {
          "base_uri": "https://localhost:8080/"
        },
        "id": "o3uYv9C2Kw4A",
        "outputId": "18b1b9ee-4a48-42e3-8120-dc93f0e913b4"
      },
      "source": [
        "myold=input(\"How old are you?\")\n",
        "print(myold)"
      ],
      "execution_count": null,
      "outputs": [
        {
          "output_type": "stream",
          "name": "stdout",
          "text": [
            "How old are you?20\n",
            "20\n"
          ]
        }
      ]
    },
    {
      "cell_type": "markdown",
      "metadata": {
        "id": "oT7XSV6q4i1K"
      },
      "source": [
        "####The declaration of a variable:"
      ]
    },
    {
      "cell_type": "code",
      "metadata": {
        "colab": {
          "base_uri": "https://localhost:8080/"
        },
        "id": "t8P8xPeM1XAK",
        "outputId": "7ff150e2-c6f6-4dcb-ffb8-2c27b6aade37"
      },
      "source": [
        "x=22\n",
        "print(x)\n",
        "\n",
        "y=23.3\n",
        "print(y)\n",
        "\n",
        "a=\"20\"\n",
        "print(a)\n",
        "\n",
        "myname=\"Reyes\"\n",
        "print(f\"Whats your surname?{myname}\")\n",
        "\n",
        "print(\"whats your surmane?\",myname,\"How ald are you?\",a,\"year old\")"
      ],
      "execution_count": null,
      "outputs": [
        {
          "output_type": "stream",
          "name": "stdout",
          "text": [
            "22\n",
            "23.3\n",
            "20\n",
            "Whats your surname?Reyes\n",
            "whats your surmane? Reyes How ald are you? 20 year old\n"
          ]
        }
      ]
    },
    {
      "cell_type": "markdown",
      "metadata": {
        "id": "srZGQaKX5ItJ"
      },
      "source": [
        "####Solve Equations:"
      ]
    },
    {
      "cell_type": "code",
      "metadata": {
        "colab": {
          "base_uri": "https://localhost:8080/"
        },
        "id": "KvW9h0cM1WmC",
        "outputId": "5c986a8c-9d4a-42c1-9927-789eee0dd8ed"
      },
      "source": [
        "print(23+5)\n",
        "print(25-5)\n",
        "print(23*5)\n",
        "print(23/5)"
      ],
      "execution_count": null,
      "outputs": [
        {
          "output_type": "stream",
          "name": "stdout",
          "text": [
            "28\n",
            "20\n",
            "115\n",
            "4.6\n",
            "a=3\n",
            "b=4\n",
            "34\n"
          ]
        }
      ]
    },
    {
      "cell_type": "markdown",
      "metadata": {
        "id": "Didm4PajAo9b"
      },
      "source": [
        "##***If-ELSE STATEMENT***"
      ]
    },
    {
      "cell_type": "code",
      "metadata": {
        "colab": {
          "base_uri": "https://localhost:8080/"
        },
        "id": "YNV8LXsk6svJ",
        "outputId": "04a787c9-0e47-49d5-e50f-88fc2ee0d2e9"
      },
      "source": [
        "a=50\n",
        "b=30\n",
        "if b<a:\n",
        "  print(\"b is great than a\")"
      ],
      "execution_count": null,
      "outputs": [
        {
          "output_type": "stream",
          "name": "stdout",
          "text": [
            "b is great than a\n"
          ]
        }
      ]
    },
    {
      "cell_type": "markdown",
      "metadata": {
        "id": "tbvwuyCsYMDp"
      },
      "source": [
        "###The elif command works in case the previous condition is not correct. then it will try with that condition."
      ]
    },
    {
      "cell_type": "code",
      "metadata": {
        "colab": {
          "base_uri": "https://localhost:8080/"
        },
        "id": "H0mZu4pIN7Pq",
        "outputId": "be4a7b40-c9eb-4ce2-dc95-5ef8840a921f"
      },
      "source": [
        "a=50\n",
        "b=30\n",
        "if b>a:\n",
        "  print(\"b is grater than a\")\n",
        "elif b<a:\n",
        "    print(\"a is greater than b\")"
      ],
      "execution_count": null,
      "outputs": [
        {
          "output_type": "stream",
          "name": "stdout",
          "text": [
            "a is greater than b\n"
          ]
        }
      ]
    },
    {
      "cell_type": "markdown",
      "metadata": {
        "id": "4ygz7Da0Y6oa"
      },
      "source": [
        "###They can have if inside another if\n",
        "they can have if inside another if"
      ]
    },
    {
      "cell_type": "code",
      "metadata": {
        "colab": {
          "base_uri": "https://localhost:8080/"
        },
        "id": "y7jbriqTO3W7",
        "outputId": "b0556e43-0bbb-4035-9e93-7ff1c64e716d"
      },
      "source": [
        "x=24\n",
        "if x>10:\n",
        "  print(\"Above ten,\")\n",
        "  if x>20:\n",
        "      print(\"and also above 20! \")\n",
        "  else:\n",
        "     print(\"but not above 20\")"
      ],
      "execution_count": null,
      "outputs": [
        {
          "output_type": "stream",
          "name": "stdout",
          "text": [
            "Above ten,\n",
            "and also above 20! \n"
          ]
        }
      ]
    },
    {
      "cell_type": "markdown",
      "metadata": {
        "id": "txaFH0VIXOWU"
      },
      "source": [
        "###Pass is an if command when a statement is empty, thus avoiding errors.\n",
        "pass is an if command when a statement is empty, thus avoiding errors."
      ]
    },
    {
      "cell_type": "code",
      "metadata": {
        "id": "NREdj-4yWxE6"
      },
      "source": [
        "a=2\n",
        "b=5\n",
        "if b>a:\n",
        "  pass"
      ],
      "execution_count": null,
      "outputs": []
    },
    {
      "cell_type": "markdown",
      "metadata": {
        "id": "bpOKe3zSCrc-"
      },
      "source": [
        "##***loops***"
      ]
    },
    {
      "cell_type": "markdown",
      "metadata": {
        "id": "uz-lUjGYZUWc"
      },
      "source": [
        "###A loop is a control structure that repeats a block of instructions."
      ]
    },
    {
      "cell_type": "code",
      "metadata": {
        "colab": {
          "base_uri": "https://localhost:8080/"
        },
        "id": "JvmUQNOxC2eQ",
        "outputId": "a9bc0637-0ff3-4397-d2d9-89c49f68c4d7"
      },
      "source": [
        "for i in[1, 2, 3]:\n",
        "    print(\"name\", end=\" \")\n",
        "print()"
      ],
      "execution_count": null,
      "outputs": [
        {
          "output_type": "stream",
          "name": "stdout",
          "text": [
            "name name name \n"
          ]
        }
      ]
    },
    {
      "cell_type": "code",
      "metadata": {
        "colab": {
          "base_uri": "https://localhost:8080/"
        },
        "id": "5lrdJj_HFV3V",
        "outputId": "8f6c05fc-8d59-45f3-9958-65289aacbb1c"
      },
      "source": [
        "\n",
        "for i in[1, 2, 3, 4, 5, 6, 7, 8, 9, 10]:\n",
        "   print(f\"3*{i}={3*i}\")\n"
      ],
      "execution_count": null,
      "outputs": [
        {
          "output_type": "stream",
          "name": "stdout",
          "text": [
            "3*1=3\n",
            "3*2=6\n",
            "3*3=9\n",
            "3*4=12\n",
            "3*5=15\n",
            "3*6=18\n",
            "3*7=21\n",
            "3*8=24\n",
            "3*9=27\n",
            "3*10=30\n"
          ]
        }
      ]
    },
    {
      "cell_type": "code",
      "metadata": {
        "colab": {
          "base_uri": "https://localhost:8080/"
        },
        "id": "mekJeXRJGxJj",
        "outputId": "5c7940f1-5fca-490a-f5a4-eac4aab5a261"
      },
      "source": [
        "for i in\"refresco\":\n",
        "  print(f\"deletrea={i}\")\n"
      ],
      "execution_count": null,
      "outputs": [
        {
          "output_type": "stream",
          "name": "stdout",
          "text": [
            "deletrea=r\n",
            "deletrea=e\n",
            "deletrea=f\n",
            "deletrea=r\n",
            "deletrea=e\n",
            "deletrea=s\n",
            "deletrea=c\n",
            "deletrea=o\n"
          ]
        }
      ]
    },
    {
      "cell_type": "markdown",
      "metadata": {
        "id": "1JE9tj-daEdH"
      },
      "source": [
        "###We can choose how many times to repeat"
      ]
    },
    {
      "cell_type": "code",
      "metadata": {
        "colab": {
          "base_uri": "https://localhost:8080/"
        },
        "id": "icSIKF0IMDbh",
        "outputId": "86157094-fa14-4d40-f902-1cf81b1c0533"
      },
      "source": [
        "repetir=int(input(\"How many times do I repeat it?\"))\n",
        "for i in range(repetir):\n",
        "  print(\"Hello\", end=\" \")"
      ],
      "execution_count": null,
      "outputs": [
        {
          "output_type": "stream",
          "name": "stdout",
          "text": [
            "How many times do I repeat it?4\n",
            "Hello Hello Hello Hello "
          ]
        }
      ]
    }
  ]
}